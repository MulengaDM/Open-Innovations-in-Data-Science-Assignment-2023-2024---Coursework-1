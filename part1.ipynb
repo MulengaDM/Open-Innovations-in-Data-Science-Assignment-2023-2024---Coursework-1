{
 "cells": [
  {
   "cell_type": "code",
   "execution_count": 1,
   "id": "262fe439-dde0-4163-98c0-33406504a338",
   "metadata": {},
   "outputs": [],
   "source": [
    "# Import necessary libraries\n",
    "import pandas as pd\n",
    "import numpy as np\n",
    "from sklearn.model_selection import train_test_split\n",
    "from sklearn.preprocessing import StandardScaler\n",
    "import torch\n",
    "import torch.nn as nn\n",
    "import torch.nn.functional as F\n",
    "from torch.utils.data import DataLoader, TensorDataset\n",
    "import torch.optim as optim\n",
    "import matplotlib.pyplot as plt"
   ]
  },
  {
   "cell_type": "code",
   "execution_count": 2,
   "id": "60dac1ff-b4b1-403e-a509-9926ba8aecfa",
   "metadata": {},
   "outputs": [],
   "source": [
    "# Load the dataset\n",
    "data = pd.read_csv('C:\\\\Users\\\\Mulen\\\\OneDrive\\\\Documents\\\\Third Year\\\\Data Science\\\\CW1\\\\part_1\\\\N-BaIoT Dataset.csv')  # Update with the correct file path"
   ]
  },
  {
   "cell_type": "code",
   "execution_count": 3,
   "id": "d3f8cc2a-00f3-4fcd-af54-e2f1f61df1dd",
   "metadata": {},
   "outputs": [
    {
     "name": "stdout",
     "output_type": "stream",
     "text": [
      "Dataset Preview:\n",
      "   Flags  Protocol  Source Address  Source port  Direction  \\\n",
      "0  72293     72316           72527         1040      74083   \n",
      "1  72288     72317           72527         1041      74087   \n",
      "2  72288     72317           72527         1042      74087   \n",
      "3  72304     72316           72527         1043      74083   \n",
      "4  72304     72316           72527         1044      74083   \n",
      "\n",
      "   Destination Address  Destination port  Total Packets  Total Bytes   State  \\\n",
      "0               112673              5678           1725      1275426  114225   \n",
      "1                82205            114190              3          317  114222   \n",
      "2                82205            114190              3          412  114222   \n",
      "3               112673              5678             20         5506  114225   \n",
      "4               110981            114212              4          248  114230   \n",
      "\n",
      "   Labels  \n",
      "0       1  \n",
      "1       1  \n",
      "2       1  \n",
      "3       1  \n",
      "4       1  \n",
      "\n",
      "Dataset Info:\n",
      "<class 'pandas.core.frame.DataFrame'>\n",
      "RangeIndex: 311913 entries, 0 to 311912\n",
      "Data columns (total 11 columns):\n",
      " #   Column               Non-Null Count   Dtype\n",
      "---  ------               --------------   -----\n",
      " 0   Flags                311913 non-null  int64\n",
      " 1   Protocol             311913 non-null  int64\n",
      " 2   Source Address       311913 non-null  int64\n",
      " 3   Source port          311913 non-null  int64\n",
      " 4   Direction            311913 non-null  int64\n",
      " 5   Destination Address  311913 non-null  int64\n",
      " 6   Destination port     311913 non-null  int64\n",
      " 7   Total Packets        311913 non-null  int64\n",
      " 8   Total Bytes          311913 non-null  int64\n",
      " 9   State                311913 non-null  int64\n",
      " 10  Labels               311913 non-null  int64\n",
      "dtypes: int64(11)\n",
      "memory usage: 26.2 MB\n",
      "None\n",
      "\n",
      "Dataset Description:\n",
      "               Flags       Protocol  Source Address    Source port  \\\n",
      "count  311913.000000  311913.000000   311913.000000  311913.000000   \n",
      "mean    72294.476264   72316.204874    72562.569505   28886.371376   \n",
      "std         7.683393       0.861789      171.149301   25187.747115   \n",
      "min     72288.000000   72312.000000    72318.000000       0.000000   \n",
      "25%     72288.000000   72316.000000    72527.000000    2343.000000   \n",
      "50%     72288.000000   72316.000000    72527.000000   36056.000000   \n",
      "75%     72304.000000   72317.000000    72645.000000   51558.000000   \n",
      "max     72311.000000   72317.000000    73966.000000   74081.000000   \n",
      "\n",
      "           Direction  Destination Address  Destination port  Total Packets  \\\n",
      "count  311913.000000        311913.000000     311913.000000  311913.000000   \n",
      "mean    74084.542177         91386.813900     103581.575856      12.275183   \n",
      "std         2.147058         11853.982721      32288.328367     107.528281   \n",
      "min     74082.000000         74091.000000          0.000000       0.000000   \n",
      "25%     74083.000000         83135.000000     114190.000000       2.000000   \n",
      "50%     74083.000000         83901.000000     114193.000000       3.000000   \n",
      "75%     74087.000000        103526.000000     114199.000000       6.000000   \n",
      "max     74090.000000        113217.000000     114219.000000   31142.000000   \n",
      "\n",
      "        Total Bytes          State         Labels  \n",
      "count  3.119130e+05  311913.000000  311913.000000  \n",
      "mean   6.281414e+03  114225.123451       0.492099  \n",
      "std    1.131069e+05     204.558015       0.499938  \n",
      "min    0.000000e+00       3.000000       0.000000  \n",
      "25%    1.800000e+02  114222.000000       0.000000  \n",
      "50%    2.830000e+02  114225.000000       0.000000  \n",
      "75%    5.940000e+02  114230.000000       1.000000  \n",
      "max    3.216380e+07  114239.000000       1.000000  \n"
     ]
    }
   ],
   "source": [
    "# Step 1: Display dataset characteristics\n",
    "print(\"Dataset Preview:\")\n",
    "print(data.head())\n",
    "print(\"\\nDataset Info:\")\n",
    "print(data.info())\n",
    "print(\"\\nDataset Description:\")\n",
    "print(data.describe())"
   ]
  },
  {
   "cell_type": "code",
   "execution_count": 4,
   "id": "065616de-2acc-4c13-8d2b-89c8522052f4",
   "metadata": {},
   "outputs": [],
   "source": [
    "# Preprocess the dataset\n",
    "# Separate features (X) and labels (y)\n",
    "X = data.iloc[:, :-1].values  # Features\n",
    "y = data.iloc[:, -1].values   # Labels"
   ]
  },
  {
   "cell_type": "code",
   "execution_count": 5,
   "id": "0b3156ee-b98c-477a-95fe-8d7d5b7d5daf",
   "metadata": {},
   "outputs": [
    {
     "name": "stdout",
     "output_type": "stream",
     "text": [
      "\n",
      "Class Distribution:\n",
      "Label 0: 158421 samples\n",
      "Label 1: 153492 samples\n"
     ]
    }
   ],
   "source": [
    "# Check for class balance\n",
    "unique, counts = np.unique(y, return_counts=True)\n",
    "print(\"\\nClass Distribution:\")\n",
    "for label, count in zip(unique, counts):\n",
    "    print(f\"Label {label}: {count} samples\")"
   ]
  },
  {
   "cell_type": "code",
   "execution_count": 6,
   "id": "c8c24eb7-ad7c-4d39-8e59-6ad7b0873254",
   "metadata": {},
   "outputs": [],
   "source": [
    "# Step 2: Standardize features\n",
    "scaler = StandardScaler()\n",
    "X_scaled = scaler.fit_transform(X)"
   ]
  },
  {
   "cell_type": "code",
   "execution_count": 7,
   "id": "859f7a93-86ef-4ae7-8885-672f0555e5a9",
   "metadata": {},
   "outputs": [
    {
     "name": "stdout",
     "output_type": "stream",
     "text": [
      "\n",
      "Split Sizes:\n",
      "Training Set: 218339 samples\n",
      "Testing Set: 93574 samples\n"
     ]
    }
   ],
   "source": [
    "# Split into training (70%) and testing (30%) datasets\n",
    "X_train, X_test, y_train, y_test = train_test_split(\n",
    "    X_scaled, y, test_size=0.3, random_state=42, stratify=y\n",
    ")\n",
    "print(\"\\nSplit Sizes:\")\n",
    "print(f\"Training Set: {X_train.shape[0]} samples\")\n",
    "print(f\"Testing Set: {X_test.shape[0]} samples\")"
   ]
  },
  {
   "cell_type": "code",
   "execution_count": 8,
   "id": "cbd25092-0fe3-4a88-a5c6-f999efaafb1d",
   "metadata": {},
   "outputs": [],
   "source": [
    "# Convert to PyTorch tensors\n",
    "X_train_tensor = torch.tensor(X_train, dtype=torch.float32)\n",
    "y_train_tensor = torch.tensor(y_train, dtype=torch.long)\n",
    "X_test_tensor = torch.tensor(X_test, dtype=torch.float32)\n",
    "y_test_tensor = torch.tensor(y_test, dtype=torch.long)"
   ]
  },
  {
   "cell_type": "code",
   "execution_count": 9,
   "id": "29f00bc8-7ea5-4af4-b783-ffd213e70e19",
   "metadata": {},
   "outputs": [],
   "source": [
    "# Create DataLoader for batching\n",
    "train_dataset = TensorDataset(X_train_tensor, y_train_tensor)\n",
    "test_dataset = TensorDataset(X_test_tensor, y_test_tensor)\n",
    "train_loader = DataLoader(train_dataset, batch_size=32, shuffle=True)\n",
    "test_loader = DataLoader(test_dataset, batch_size=32, shuffle=False)"
   ]
  },
  {
   "cell_type": "code",
   "execution_count": 10,
   "id": "ce7ab0dd",
   "metadata": {},
   "outputs": [],
   "source": [
    "# Step 3: Define the neural network architecture\n",
    "class BotnetClassifier(nn.Module):\n",
    "    def __init__(self, input_size):\n",
    "        super(BotnetClassifier, self).__init__()\n",
    "        self.fc1 = nn.Linear(input_size, 128)\n",
    "        self.fc2 = nn.Linear(128, 64)\n",
    "        self.fc3 = nn.Linear(64, 2)  # Binary classification output\n",
    "\n",
    "    def forward(self, x):\n",
    "        x = F.relu(self.fc1(x))\n",
    "        x = F.relu(self.fc2(x))\n",
    "        x = self.fc3(x)\n",
    "        return x"
   ]
  },
  {
   "cell_type": "code",
   "execution_count": 11,
   "id": "01a090fc",
   "metadata": {},
   "outputs": [
    {
     "name": "stdout",
     "output_type": "stream",
     "text": [
      "\n",
      "Neural Network Architecture:\n",
      "BotnetClassifier(\n",
      "  (fc1): Linear(in_features=10, out_features=128, bias=True)\n",
      "  (fc2): Linear(in_features=128, out_features=64, bias=True)\n",
      "  (fc3): Linear(in_features=64, out_features=2, bias=True)\n",
      ")\n"
     ]
    }
   ],
   "source": [
    "# Initialize the model\n",
    "input_size = X_train.shape[1]\n",
    "model = BotnetClassifier(input_size)\n",
    "print(\"\\nNeural Network Architecture:\")\n",
    "print(model)"
   ]
  },
  {
   "cell_type": "code",
   "execution_count": 12,
   "id": "5d12d47b",
   "metadata": {},
   "outputs": [],
   "source": [
    "# Step 4: Define loss function and optimizer\n",
    "criterion = nn.CrossEntropyLoss()\n",
    "optimizer = optim.Adam(model.parameters(), lr=0.001)"
   ]
  },
  {
   "cell_type": "code",
   "execution_count": 13,
   "id": "e48663a6",
   "metadata": {},
   "outputs": [
    {
     "name": "stdout",
     "output_type": "stream",
     "text": [
      "\n",
      "Training Progress:\n",
      "Epoch 1/20: Train Loss = 0.0129, Train Accuracy = 0.9971, Test Loss = 0.0026, Test Accuracy = 0.9993\n",
      "Epoch 2/20: Train Loss = 0.0021, Train Accuracy = 0.9995, Test Loss = 0.0015, Test Accuracy = 0.9998\n",
      "Epoch 3/20: Train Loss = 0.0012, Train Accuracy = 0.9997, Test Loss = 0.0012, Test Accuracy = 0.9998\n",
      "Epoch 4/20: Train Loss = 0.0010, Train Accuracy = 0.9998, Test Loss = 0.0010, Test Accuracy = 0.9998\n",
      "Epoch 5/20: Train Loss = 0.0011, Train Accuracy = 0.9997, Test Loss = 0.0014, Test Accuracy = 0.9998\n",
      "Epoch 6/20: Train Loss = 0.0008, Train Accuracy = 0.9998, Test Loss = 0.0009, Test Accuracy = 0.9998\n",
      "Epoch 7/20: Train Loss = 0.0009, Train Accuracy = 0.9998, Test Loss = 0.0011, Test Accuracy = 0.9998\n",
      "Epoch 8/20: Train Loss = 0.0007, Train Accuracy = 0.9998, Test Loss = 0.0012, Test Accuracy = 0.9998\n",
      "Epoch 9/20: Train Loss = 0.0010, Train Accuracy = 0.9998, Test Loss = 0.0009, Test Accuracy = 0.9998\n",
      "Epoch 10/20: Train Loss = 0.0006, Train Accuracy = 0.9998, Test Loss = 0.0009, Test Accuracy = 0.9998\n",
      "Epoch 11/20: Train Loss = 0.0007, Train Accuracy = 0.9998, Test Loss = 0.0008, Test Accuracy = 0.9998\n",
      "Epoch 12/20: Train Loss = 0.0005, Train Accuracy = 0.9998, Test Loss = 0.0008, Test Accuracy = 0.9998\n",
      "Epoch 13/20: Train Loss = 0.0006, Train Accuracy = 0.9998, Test Loss = 0.0009, Test Accuracy = 0.9998\n",
      "Epoch 14/20: Train Loss = 0.0005, Train Accuracy = 0.9998, Test Loss = 0.0021, Test Accuracy = 0.9997\n",
      "Epoch 15/20: Train Loss = 0.0006, Train Accuracy = 0.9998, Test Loss = 0.0008, Test Accuracy = 0.9998\n",
      "Epoch 16/20: Train Loss = 0.0006, Train Accuracy = 0.9998, Test Loss = 0.0008, Test Accuracy = 0.9998\n",
      "Epoch 17/20: Train Loss = 0.0008, Train Accuracy = 0.9998, Test Loss = 0.0011, Test Accuracy = 0.9998\n",
      "Epoch 18/20: Train Loss = 0.0004, Train Accuracy = 0.9998, Test Loss = 0.0012, Test Accuracy = 0.9998\n",
      "Epoch 19/20: Train Loss = 0.0005, Train Accuracy = 0.9998, Test Loss = 0.0009, Test Accuracy = 0.9998\n",
      "Epoch 20/20: Train Loss = 0.0005, Train Accuracy = 0.9998, Test Loss = 0.0011, Test Accuracy = 0.9998\n"
     ]
    }
   ],
   "source": [
    "# Training the model\n",
    "epochs = 20\n",
    "train_losses, test_losses = [], []\n",
    "train_accuracies, test_accuracies = [], []\n",
    "\n",
    "print(\"\\nTraining Progress:\")\n",
    "for epoch in range(epochs):\n",
    "    model.train()\n",
    "    running_loss = 0\n",
    "    correct = 0\n",
    "    for X_batch, y_batch in train_loader:\n",
    "        optimizer.zero_grad()\n",
    "        outputs = model(X_batch)\n",
    "        loss = criterion(outputs, y_batch)\n",
    "        loss.backward()\n",
    "        optimizer.step()\n",
    "        running_loss += loss.item()\n",
    "        _, predicted = torch.max(outputs, 1)\n",
    "        correct += (predicted == y_batch).sum().item()\n",
    "\n",
    "    train_losses.append(running_loss / len(train_loader))\n",
    "    train_accuracies.append(correct / len(train_loader.dataset))\n",
    "\n",
    "    # Evaluate on test set\n",
    "    model.eval()\n",
    "    test_loss = 0\n",
    "    correct = 0\n",
    "    with torch.no_grad():\n",
    "        for X_batch, y_batch in test_loader:\n",
    "            outputs = model(X_batch)\n",
    "            loss = criterion(outputs, y_batch)\n",
    "            test_loss += loss.item()\n",
    "            _, predicted = torch.max(outputs, 1)\n",
    "            correct += (predicted == y_batch).sum().item()\n",
    "\n",
    "    test_losses.append(test_loss / len(test_loader))\n",
    "    test_accuracies.append(correct / len(test_loader.dataset))\n",
    "\n",
    "    print(f\"Epoch {epoch+1}/{epochs}: \"\n",
    "          f\"Train Loss = {train_losses[-1]:.4f}, Train Accuracy = {train_accuracies[-1]:.4f}, \"\n",
    "          f\"Test Loss = {test_losses[-1]:.4f}, Test Accuracy = {test_accuracies[-1]:.4f}\")"
   ]
  },
  {
   "cell_type": "code",
   "execution_count": 14,
   "id": "61e8727c",
   "metadata": {},
   "outputs": [
    {
     "data": {
      "image/png": "[encoded data removed]",
      "text/plain": [
       "<Figure size 1200x500 with 2 Axes>"
      ]
     },
     "metadata": {},
     "output_type": "display_data"
    }
   ],
   "source": [
    "# Step 5: Plot training and testing performance\n",
    "plt.figure(figsize=(12, 5))\n",
    "plt.subplot(1, 2, 1)\n",
    "plt.plot(range(epochs), train_losses, label='Train Loss')\n",
    "plt.plot(range(epochs), test_losses, label='Test Loss')\n",
    "plt.legend()\n",
    "plt.title('Loss')\n",
    "\n",
    "plt.subplot(1, 2, 2)\n",
    "plt.plot(range(epochs), train_accuracies, label='Train Accuracy')\n",
    "plt.plot(range(epochs), test_accuracies, label='Test Accuracy')\n",
    "plt.legend()\n",
    "plt.title('Accuracy')\n",
    "\n",
    "plt.show()"
   ]
  },
  {
   "cell_type": "code",
   "execution_count": 15,
   "id": "917f97a0",
   "metadata": {},
   "outputs": [
    {
     "name": "stdout",
     "output_type": "stream",
     "text": [
      "\n",
      "Sample Predictions:\n",
      "Sample 1: True Label = 0, Predicted Label = 0\n",
      "Sample 2: True Label = 0, Predicted Label = 0\n",
      "Sample 3: True Label = 1, Predicted Label = 1\n",
      "Sample 4: True Label = 1, Predicted Label = 1\n",
      "Sample 5: True Label = 0, Predicted Label = 0\n"
     ]
    }
   ],
   "source": [
    "# Step 6: Test on 5 random unseen samples\n",
    "import random\n",
    "\n",
    "model.eval()\n",
    "test_indices = random.sample(range(len(X_test)), 5)\n",
    "test_samples = X_test_tensor[test_indices]\n",
    "true_labels = y_test[test_indices]\n",
    "\n",
    "with torch.no_grad():\n",
    "    predictions = model(test_samples)\n",
    "    predicted_labels = torch.argmax(predictions, axis=1)\n",
    "\n",
    "print(\"\\nSample Predictions:\")\n",
    "for i, idx in enumerate(test_indices):\n",
    "    print(f\"Sample {i+1}: True Label = {true_labels[i]}, Predicted Label = {predicted_labels[i].item()}\")"
   ]
  }
 ],
 "metadata": {
  "kernelspec": {
   "display_name": "Python 3",
   "language": "python",
   "name": "python3"
  },
  "language_info": {
   "codemirror_mode": {
    "name": "ipython",
    "version": 3
   },
   "file_extension": ".py",
   "mimetype": "text/x-python",
   "name": "python",
   "nbconvert_exporter": "python",
   "pygments_lexer": "ipython3",
   "version": "3.12.4"
  }
 },
 "nbformat": 4,
 "nbformat_minor": 5
}
